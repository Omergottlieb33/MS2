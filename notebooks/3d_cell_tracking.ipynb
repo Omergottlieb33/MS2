{
 "cells": [
  {
   "cell_type": "markdown",
   "id": "c9d8f7c1",
   "metadata": {},
   "source": [
    "#### Imports"
   ]
  },
  {
   "cell_type": "code",
   "execution_count": null,
   "id": "bb8ee8aa",
   "metadata": {},
   "outputs": [],
   "source": [
    "import os\n",
    "import re\n",
    "import sys\n",
    "import numpy as np\n",
    "import matplotlib.pyplot as plt\n",
    "\n",
    "import networkx as nx"
   ]
  },
  {
   "cell_type": "code",
   "execution_count": null,
   "id": "943f4ff1",
   "metadata": {},
   "outputs": [],
   "source": [
    "sys.path.append('..')"
   ]
  },
  {
   "cell_type": "code",
   "execution_count": null,
   "id": "fe3f2731",
   "metadata": {},
   "outputs": [],
   "source": [
    "from src.utils.image_utils import load_czi_images, enhance_cell_image_contrast\n",
    "from src.utils.plot_utils import show_3d_segmentation_overlay\n",
    "from src.track import *"
   ]
  },
  {
   "cell_type": "markdown",
   "id": "bff7bc43",
   "metadata": {},
   "source": [
    "#### Functions"
   ]
  },
  {
   "cell_type": "markdown",
   "id": "06da5dce",
   "metadata": {},
   "source": [
    "#### Inputs"
   ]
  },
  {
   "cell_type": "code",
   "execution_count": null,
   "id": "1f705642",
   "metadata": {},
   "outputs": [],
   "source": [
    "czi_file_path = '/home/dafei/data/MS2/gRNA2_12.03.25-st-13-II---.czi'\n",
    "seg_maps_dir = '/home/dafei/output/MS2/3d_cell_segmentation/gRNA2_12.03.25-st-13-II---/masks'"
   ]
  },
  {
   "cell_type": "code",
   "execution_count": null,
   "id": "86087cb9",
   "metadata": {},
   "outputs": [],
   "source": [
    "image_data = load_czi_images(czi_file_path)"
   ]
  },
  {
   "cell_type": "code",
   "execution_count": null,
   "id": "4fd82336",
   "metadata": {},
   "outputs": [],
   "source": [
    "def extract_time_number(filename):\n",
    "    \"\"\"Extract time number from filename like z_stack_t5_seg_masks.npz\"\"\"\n",
    "    try:\n",
    "        # Find the pattern t{number}_\n",
    "        match = re.search(r't(\\d+)_', filename)\n",
    "        return int(match.group(1)) if match else 0\n",
    "    except:\n",
    "        return 0\n",
    "\n",
    "# Sort files by time number\n",
    "files = sorted([os.path.join(seg_maps_dir, x) for x in os.listdir(seg_maps_dir) \n",
    "                if x.startswith('z_stack_t') and x.endswith('_seg_masks.npz')], \n",
    "               key=extract_time_number)"
   ]
  },
  {
   "cell_type": "code",
   "execution_count": null,
   "id": "e6794ecb",
   "metadata": {},
   "outputs": [],
   "source": [
    "files\n"
   ]
  },
  {
   "cell_type": "code",
   "execution_count": null,
   "id": "0b89c5b7",
   "metadata": {},
   "outputs": [],
   "source": [
    "z_stack_seg_mask_t0 = np.load(files[0])['masks']\n",
    "z_stack_t0 = image_data[0, 0, 1, :, :, :, 0]"
   ]
  },
  {
   "cell_type": "code",
   "execution_count": null,
   "id": "76ee42c2",
   "metadata": {},
   "outputs": [],
   "source": [
    "show_3d_segmentation_overlay(z_stack_t0, z_stack_seg_mask_t0)"
   ]
  },
  {
   "cell_type": "code",
   "execution_count": null,
   "id": "20e6d367",
   "metadata": {},
   "outputs": [],
   "source": [
    "z_stack_seg_mask_t1 = np.load(files[1])['masks']\n",
    "z_stack_t1 = image_data[0, 1, 1, :, :, :, 0]"
   ]
  },
  {
   "cell_type": "code",
   "execution_count": null,
   "id": "6bc5ce7a",
   "metadata": {},
   "outputs": [],
   "source": [
    "show_3d_segmentation_overlay(z_stack_t1, z_stack_seg_mask_t1)"
   ]
  },
  {
   "cell_type": "code",
   "execution_count": null,
   "id": "74493842",
   "metadata": {},
   "outputs": [],
   "source": [
    "z_stack_seg_mask_t2 = np.load(files[2])['masks']\n",
    "z_stack_t2 = image_data[0, 2, 1, :, :, :, 0]"
   ]
  },
  {
   "cell_type": "code",
   "execution_count": null,
   "id": "cd00041b",
   "metadata": {},
   "outputs": [],
   "source": [
    "show_3d_segmentation_overlay(z_stack_t2, z_stack_seg_mask_t2)"
   ]
  },
  {
   "cell_type": "markdown",
   "id": "b72a634c",
   "metadata": {},
   "source": [
    "Tracking cells using adjacency graph"
   ]
  },
  {
   "cell_type": "code",
   "execution_count": null,
   "id": "8717d17a",
   "metadata": {},
   "outputs": [],
   "source": [
    "# Compute cell locations for the first frame\n",
    "centers1 = get_cell_centers(z_stack_seg_mask_t0)\n",
    "labels1 = np.unique(z_stack_seg_mask_t0)\n",
    "g1 = compute_cell_location(centers=centers1, labels=labels1)\n",
    "\n",
    "# Compute cell locations for the second frame\n",
    "centers2 = get_cell_centers(z_stack_seg_mask_t1)\n",
    "labels2 = np.unique(z_stack_seg_mask_t1)\n",
    "g2 = compute_cell_location(centers=centers2, labels=labels2)\n",
    "\n",
    "# Compute cell locations for the third frame\n",
    "centers3 = get_cell_centers(z_stack_seg_mask_t2)\n",
    "labels3 = np.unique(z_stack_seg_mask_t2)\n",
    "g3 = compute_cell_location(centers=centers3, labels=labels3)"
   ]
  },
  {
   "cell_type": "code",
   "execution_count": null,
   "id": "7938d468",
   "metadata": {},
   "outputs": [],
   "source": [
    "matches_1_t0_0 = match_points_between_frames(g1, g2, z_stack_seg_mask_t0, z_stack_seg_mask_t1,distance_threshold=np.sqrt(3))\n",
    "matches_2_t1_1 = match_points_between_frames(g2, g3, z_stack_seg_mask_t1, z_stack_seg_mask_t2,distance_threshold=np.sqrt(3))"
   ]
  },
  {
   "cell_type": "code",
   "execution_count": null,
   "id": "650e8319",
   "metadata": {},
   "outputs": [],
   "source": [
    "fig = plt.figure(figsize=(8, 6))\n",
    "ax = fig.add_subplot(111, projection='3d')\n",
    "\n",
    "for label_t_plus1 in range(1,449):\n",
    "    label_t = matches_1_t0_0[label_t_plus1] if label_t_plus1 in matches_1_t0_0 else None\n",
    "    if label_t is None:\n",
    "        continue  # Skip if no match found\n",
    "    # Get positions for the current label in both frames\n",
    "    row_mask_t1 =centers2[:, 0] == label_t_plus1\n",
    "    matching_rows1 = centers2[row_mask_t1]\n",
    "    pos1 = matching_rows1[0][1:]\n",
    "\n",
    "    row_mask_t2 = centers1[:, 0] == label_t\n",
    "    matching_rows2 = centers1[row_mask_t2]\n",
    "    pos2 = matching_rows2[0][1:]\n",
    "    \n",
    "    ax.scatter(*pos1, color='blue', label=f'Cell {label_t_plus1} in Frame 2',s=4)\n",
    "    ax.scatter(*pos2, color='red', label=f'Cell {label_t} in Frame 1' if pos2 is not None else 'No match', s=4)\n",
    "    ax.plot([pos1[0], pos2[0]], [pos1[1], pos2[1]], [pos1[2], pos2[2]], 'black', linewidth=1, linestyle='--' if pos2 is not None else 'None')\n",
    "    ax.set_title('Cell Tracking Between Frames')\n",
    "    ax.set_xlim([0, z_stack_seg_mask_t1.shape[1]])\n",
    "    ax.set_ylim([0, z_stack_seg_mask_t1.shape[2]])\n",
    "    ax.set_zlim([0, z_stack_seg_mask_t1.shape[0]])\n",
    "#ax.legend()\n",
    "ax.grid(True)\n",
    "plt.show()"
   ]
  },
  {
   "cell_type": "code",
   "execution_count": null,
   "id": "3fd85a35",
   "metadata": {},
   "outputs": [],
   "source": [
    "label_t_plus1 = 1\n",
    "label_t = matches_1_t0_0[label_t_plus1] if label_t_plus1 in matches_1_t0_0 else None\n",
    "\n",
    "cell_mask_t_plus1 = (z_stack_seg_mask_t1 == label_t_plus1).astype(np.uint8)\n",
    "cell_mask_t = (z_stack_seg_mask_t0 == label_t).astype(np.uint8)\n",
    "\n",
    "show_3d_segmentation_overlay(z_stack_t1, cell_mask_t_plus1)\n",
    "show_3d_segmentation_overlay(z_stack_t0, cell_mask_t)"
   ]
  },
  {
   "cell_type": "code",
   "execution_count": null,
   "id": "3453ae06",
   "metadata": {},
   "outputs": [],
   "source": [
    "def find_key_for_last_tracklet_value_optimized(tracklets, matches_dict, tracklet_id):\n",
    "    \"\"\"\n",
    "    Optimized version using next() with generator expression for early termination.\n",
    "    \"\"\"\n",
    "    last_value = tracklets[tracklet_id][-1]\n",
    "    \n",
    "    # Use next() with generator for immediate return on first match\n",
    "    return next((key for key, value in matches_dict.items() if value == last_value), -1)"
   ]
  },
  {
   "cell_type": "code",
   "execution_count": null,
   "id": "757b2c46",
   "metadata": {},
   "outputs": [],
   "source": [
    "def create_tracklets(matches:list):\n",
    "    matches_1_t0_0 = matches[0]\n",
    "    #init tracklets\n",
    "    tracklets = {}\n",
    "    for i,(label_t_plus1, label_t) in enumerate(matches_1_t0_0.items()):\n",
    "        tracklets[i] = [int(label_t),int(label_t_plus1)]\n",
    "    for i in range(1, len(matches)):\n",
    "        max_id = max(tracklets.keys())\n",
    "        new_tracklets = {}\n",
    "\n",
    "        # First, extend existing tracklets\n",
    "        for id, labels in tracklets.items():\n",
    "            key = find_key_for_last_tracklet_value_optimized(tracklets, matches_2_t1_1, id)\n",
    "            if key != -1:  # Only append if a match was found\n",
    "                labels.append(int(matches_2_t1_1[key]))\n",
    "\n",
    "    # Then, create new tracklets for unmatched cells in matches_2_t1_1\n",
    "    used_keys = set()\n",
    "    for id, labels in tracklets.items():\n",
    "        if len(labels) >= 2:  # Check if tracklet was extended\n",
    "            used_keys.add(labels[-2])  # Add the second-to-last value (the key that was found)\n",
    "\n",
    "    # Create new tracklets for unused matches\n",
    "    for key, value in matches_2_t1_1.items():\n",
    "        if key not in used_keys:\n",
    "            max_id += 1\n",
    "            new_tracklets[max_id] = [-1]*i + [int(key), int(value)]\n",
    "\n",
    "    # Add new tracklets\n",
    "    tracklets.update(new_tracklets)"
   ]
  }
 ],
 "metadata": {
  "kernelspec": {
   "display_name": "ds3d",
   "language": "python",
   "name": "python3"
  },
  "language_info": {
   "codemirror_mode": {
    "name": "ipython",
    "version": 3
   },
   "file_extension": ".py",
   "mimetype": "text/x-python",
   "name": "python",
   "nbconvert_exporter": "python",
   "pygments_lexer": "ipython3",
   "version": "3.12.9"
  }
 },
 "nbformat": 4,
 "nbformat_minor": 5
}
