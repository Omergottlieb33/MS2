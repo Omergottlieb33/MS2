{
 "cells": [
  {
   "cell_type": "markdown",
   "id": "5934aa56",
   "metadata": {},
   "source": [
    "#### Import"
   ]
  },
  {
   "cell_type": "code",
   "execution_count": null,
   "id": "39e6927b",
   "metadata": {},
   "outputs": [],
   "source": [
    "import sys\n",
    "import torch\n",
    "import matplotlib.pyplot as plt\n",
    "import numpy as np\n",
    "from PIL import Image\n",
    "import io\n",
    "\n",
    "from cellpose.utils import masks_to_outlines\n",
    "from cellpose.plot import image_to_rgb\n"
   ]
  },
  {
   "cell_type": "code",
   "execution_count": null,
   "id": "e5a512f2",
   "metadata": {},
   "outputs": [],
   "source": [
    "sys.path.append(\"..\")"
   ]
  },
  {
   "cell_type": "code",
   "execution_count": null,
   "id": "a5bf09fc",
   "metadata": {},
   "outputs": [],
   "source": [
    "from src.model import MS2"
   ]
  },
  {
   "cell_type": "markdown",
   "id": "49813f25",
   "metadata": {},
   "source": [
    "#### Functions"
   ]
  },
  {
   "cell_type": "code",
   "execution_count": null,
   "id": "ee5e3858",
   "metadata": {},
   "outputs": [],
   "source": [
    "def create_gif_from_overlay_sequence(base_images, gif_path,\n",
    "                                   duration=500, figsize=(8, 8), titles=None):\n",
    "    \"\"\"\n",
    "    Create a GIF from a sequence of overlay images using matplotlib.\n",
    "    \n",
    "    Args:\n",
    "        base_images (list): List of base images (numpy arrays)\n",
    "        overlay_images (list): List of overlay images (numpy arrays)\n",
    "        gif_path (str): Output path for the GIF file\n",
    "        alpha (float): Transparency of overlay\n",
    "        base_cmap (str): Colormap for base images\n",
    "        overlay_cmap (str): Colormap for overlay images\n",
    "        duration (int): Duration between frames in milliseconds\n",
    "        figsize (tuple): Figure size for each frame\n",
    "        titles (list): Optional list of titles for each frame\n",
    "    \n",
    "    Returns:\n",
    "        str: Path to the created GIF file\n",
    "    \"\"\"\n",
    "    frames = []\n",
    "    \n",
    "    for i, base_img in enumerate(base_images):\n",
    "        # Create matplotlib figure\n",
    "        fig, ax = plt.subplots(figsize=figsize)\n",
    "        \n",
    "        # Plot base image\n",
    "        if len(base_img.shape) == 3:\n",
    "            ax.imshow(base_img)\n",
    "        else:\n",
    "            ax.imshow(base_img)\n",
    "        \n",
    "        # Set title if provided\n",
    "        if titles and i < len(titles):\n",
    "            ax.set_title(titles[i], fontsize=12)\n",
    "        \n",
    "        ax.axis('off')\n",
    "        \n",
    "        # Convert matplotlib figure to PIL Image\n",
    "        buf = io.BytesIO()\n",
    "        plt.savefig(buf, format='png', bbox_inches='tight', dpi=100)\n",
    "        buf.seek(0)\n",
    "        frame = Image.open(buf)\n",
    "        frames.append(frame.copy())\n",
    "        \n",
    "        plt.close(fig)\n",
    "        buf.close()\n",
    "    \n",
    "    # Create GIF\n",
    "    frames[0].save(\n",
    "        gif_path,\n",
    "        save_all=True,\n",
    "        append_images=frames[1:],\n",
    "        duration=duration,\n",
    "        loop=0,\n",
    "        optimize=True\n",
    "    )\n",
    "    \n",
    "    print(f\"Overlay GIF saved to: {gif_path}\")\n",
    "    return gif_path"
   ]
  },
  {
   "cell_type": "code",
   "execution_count": null,
   "id": "d112ea2e",
   "metadata": {},
   "outputs": [],
   "source": [
    "def enhance_cell_image_contrast(image):\n",
    "    if image.shape[0] < 4:\n",
    "        image = np.transpose(image, (1, 2, 0))\n",
    "    if image.shape[-1] < 3 or image.ndim < 3:\n",
    "        image = image_to_rgb(image, channels=[0, 0])\n",
    "    else:\n",
    "        if image.max() <= 50.0:\n",
    "            image = np.uint8(np.clip(image, 0, 1) * 255)\n",
    "    return image\n",
    "\n",
    "def draw_cell_outline_on_image(mask, image):\n",
    "    if np.sum(mask) == 0:\n",
    "        return image\n",
    "    outlines = masks_to_outlines(mask)\n",
    "    outX, outY = np.nonzero(outlines)\n",
    "    imgout = image.copy()\n",
    "    imgout[outX, outY] = np.array([255, 0, 0])  # pure red\n",
    "    return imgout"
   ]
  },
  {
   "cell_type": "markdown",
   "id": "1020f15d",
   "metadata": {},
   "source": [
    "#### Input"
   ]
  },
  {
   "cell_type": "code",
   "execution_count": null,
   "id": "822a4bc3",
   "metadata": {},
   "outputs": [],
   "source": [
    "czi_file_path = '/home/dafei/data/MS2/New-03_I.czi'\n",
    "device = torch.device('cuda:0')\n",
    "z = 0"
   ]
  },
  {
   "cell_type": "code",
   "execution_count": null,
   "id": "de1a03b0",
   "metadata": {},
   "outputs": [],
   "source": [
    "ms2 = MS2(czi_path = czi_file_path, device=device)"
   ]
  },
  {
   "cell_type": "code",
   "execution_count": null,
   "id": "535244ce",
   "metadata": {},
   "outputs": [],
   "source": [
    "# instance segmentation\n",
    "mask = ms2.segment_cells(z=z,t=38,plot_flag=True)"
   ]
  },
  {
   "cell_type": "code",
   "execution_count": null,
   "id": "95814f47",
   "metadata": {},
   "outputs": [],
   "source": [
    "tracked_cells = ms2.cell_tracking(z=z)"
   ]
  },
  {
   "cell_type": "code",
   "execution_count": null,
   "id": "62bb7835",
   "metadata": {},
   "outputs": [],
   "source": [
    "images = []\n",
    "titles = []\n",
    "cell_id = 56\n",
    "for i in range(tracked_cells[cell_id].shape[0]):\n",
    "    fig, ax = plt.subplots(figsize=(10, 5))\n",
    "    cell_mask = tracked_cells[cell_id][i]\n",
    "    cells_image = ms2.image_data[0, 0, ms2.microscope_channels[1], i, :, :, 0]\n",
    "    cells_image = enhance_cell_image_contrast(cells_image)\n",
    "    cell_outline_on_img = draw_cell_outline_on_image(cell_mask, cells_image)\n",
    "    images.append(cell_outline_on_img)\n",
    "    titles.append(f'Cell id : {cell_id}, z:{0} t: {i}')\n",
    "\n",
    "create_gif_from_overlay_sequence(\n",
    "    base_images=images,\n",
    "    gif_path='overlay_sequence_128.gif',\n",
    "    alpha=0.5,\n",
    "    titles=titles)"
   ]
  },
  {
   "cell_type": "code",
   "execution_count": null,
   "id": "322c6750",
   "metadata": {},
   "outputs": [],
   "source": []
  }
 ],
 "metadata": {
  "kernelspec": {
   "display_name": "ds3d",
   "language": "python",
   "name": "python3"
  },
  "language_info": {
   "codemirror_mode": {
    "name": "ipython",
    "version": 3
   },
   "file_extension": ".py",
   "mimetype": "text/x-python",
   "name": "python",
   "nbconvert_exporter": "python",
   "pygments_lexer": "ipython3",
   "version": "3.12.9"
  }
 },
 "nbformat": 4,
 "nbformat_minor": 5
}
