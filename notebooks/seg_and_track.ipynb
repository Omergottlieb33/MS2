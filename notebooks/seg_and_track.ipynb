{
 "cells": [
  {
   "cell_type": "markdown",
   "id": "5934aa56",
   "metadata": {},
   "source": [
    "#### Import"
   ]
  },
  {
   "cell_type": "code",
   "execution_count": null,
   "id": "39e6927b",
   "metadata": {},
   "outputs": [],
   "source": [
    "import sys\n",
    "import torch\n",
    "import matplotlib.pyplot as plt\n",
    "import numpy as np\n",
    "from PIL import Image\n",
    "import io\n"
   ]
  },
  {
   "cell_type": "code",
   "execution_count": null,
   "id": "e5a512f2",
   "metadata": {},
   "outputs": [],
   "source": [
    "sys.path.append(\"..\")"
   ]
  },
  {
   "cell_type": "code",
   "execution_count": null,
   "id": "a5bf09fc",
   "metadata": {},
   "outputs": [],
   "source": [
    "from src.model import MS2"
   ]
  },
  {
   "cell_type": "markdown",
   "id": "49813f25",
   "metadata": {},
   "source": [
    "#### Functions"
   ]
  },
  {
   "cell_type": "code",
   "execution_count": null,
   "id": "ee5e3858",
   "metadata": {},
   "outputs": [],
   "source": [
    "def create_gif_from_overlay_sequence(base_images, overlay_images, gif_path, \n",
    "                                   alpha=0.5, base_cmap='viridis', overlay_cmap='hot',\n",
    "                                   duration=500, figsize=(8, 8), titles=None):\n",
    "    \"\"\"\n",
    "    Create a GIF from a sequence of overlay images using matplotlib.\n",
    "    \n",
    "    Args:\n",
    "        base_images (list): List of base images (numpy arrays)\n",
    "        overlay_images (list): List of overlay images (numpy arrays)\n",
    "        gif_path (str): Output path for the GIF file\n",
    "        alpha (float): Transparency of overlay\n",
    "        base_cmap (str): Colormap for base images\n",
    "        overlay_cmap (str): Colormap for overlay images\n",
    "        duration (int): Duration between frames in milliseconds\n",
    "        figsize (tuple): Figure size for each frame\n",
    "        titles (list): Optional list of titles for each frame\n",
    "    \n",
    "    Returns:\n",
    "        str: Path to the created GIF file\n",
    "    \"\"\"\n",
    "    frames = []\n",
    "    \n",
    "    for i, (base_img, overlay_img) in enumerate(zip(base_images, overlay_images)):\n",
    "        # Create matplotlib figure\n",
    "        fig, ax = plt.subplots(figsize=figsize)\n",
    "        \n",
    "        # Plot base image\n",
    "        if len(base_img.shape) == 3:\n",
    "            ax.imshow(base_img)\n",
    "        else:\n",
    "            ax.imshow(base_img, cmap=base_cmap)\n",
    "        \n",
    "        # Plot overlay\n",
    "        if len(overlay_img.shape) == 3:\n",
    "            ax.imshow(overlay_img, alpha=alpha)\n",
    "        else:\n",
    "            ax.imshow(overlay_img, cmap=overlay_cmap, alpha=alpha)\n",
    "        \n",
    "        # Set title if provided\n",
    "        if titles and i < len(titles):\n",
    "            ax.set_title(titles[i], fontsize=12)\n",
    "        \n",
    "        ax.axis('off')\n",
    "        \n",
    "        # Convert matplotlib figure to PIL Image\n",
    "        buf = io.BytesIO()\n",
    "        plt.savefig(buf, format='png', bbox_inches='tight', dpi=100)\n",
    "        buf.seek(0)\n",
    "        frame = Image.open(buf)\n",
    "        frames.append(frame.copy())\n",
    "        \n",
    "        plt.close(fig)\n",
    "        buf.close()\n",
    "    \n",
    "    # Create GIF\n",
    "    frames[0].save(\n",
    "        gif_path,\n",
    "        save_all=True,\n",
    "        append_images=frames[1:],\n",
    "        duration=duration,\n",
    "        loop=0,\n",
    "        optimize=True\n",
    "    )\n",
    "    \n",
    "    print(f\"Overlay GIF saved to: {gif_path}\")\n",
    "    return gif_path"
   ]
  },
  {
   "cell_type": "markdown",
   "id": "1020f15d",
   "metadata": {},
   "source": [
    "#### Input"
   ]
  },
  {
   "cell_type": "code",
   "execution_count": null,
   "id": "822a4bc3",
   "metadata": {},
   "outputs": [],
   "source": [
    "czi_file_path = '/home/dafei/data/MS2/New-03_I.czi'\n",
    "device = torch.device('cuda:0')"
   ]
  },
  {
   "cell_type": "code",
   "execution_count": null,
   "id": "de1a03b0",
   "metadata": {},
   "outputs": [],
   "source": [
    "ms2 = MS2(czi_path = czi_file_path, device=device)"
   ]
  },
  {
   "cell_type": "code",
   "execution_count": null,
   "id": "95814f47",
   "metadata": {},
   "outputs": [],
   "source": [
    "tracked_cells = ms2.cell_tracking_v2(z=0)"
   ]
  },
  {
   "cell_type": "code",
   "execution_count": null,
   "id": "62bb7835",
   "metadata": {},
   "outputs": [],
   "source": [
    "base_images = []\n",
    "overlay_images = []\n",
    "titles = []\n",
    "cell_id = 128\n",
    "for i in range(tracked_cells[cell_id].shape[0]):\n",
    "    fig, ax = plt.subplots(figsize=(10, 5))\n",
    "    cell_mask = tracked_cells[cell_id][i]\n",
    "    cells_image = ms2.image_data[0, 0, ms2.microscope_channels[1], i, :, :, 0]\n",
    "    base_images.append(cells_image)\n",
    "    overlay_images.append(cell_mask)\n",
    "    titles.append(f'Cell id : {cell_id}, z:{0} t: {i}')\n",
    "\n",
    "create_gif_from_overlay_sequence(\n",
    "    base_images=base_images,\n",
    "    overlay_images=overlay_images,\n",
    "    gif_path='overlay_sequence_128.gif',\n",
    "    alpha=0.5,\n",
    "    titles=titles)"
   ]
  },
  {
   "cell_type": "code",
   "execution_count": null,
   "id": "322c6750",
   "metadata": {},
   "outputs": [],
   "source": []
  }
 ],
 "metadata": {
  "kernelspec": {
   "display_name": "ds3d",
   "language": "python",
   "name": "python3"
  },
  "language_info": {
   "codemirror_mode": {
    "name": "ipython",
    "version": 3
   },
   "file_extension": ".py",
   "mimetype": "text/x-python",
   "name": "python",
   "nbconvert_exporter": "python",
   "pygments_lexer": "ipython3",
   "version": "3.12.9"
  }
 },
 "nbformat": 4,
 "nbformat_minor": 5
}
